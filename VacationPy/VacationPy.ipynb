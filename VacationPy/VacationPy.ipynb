{
 "cells": [
  {
   "cell_type": "markdown",
   "metadata": {},
   "source": [
    "# VacationPy"
   ]
  },
  {
   "cell_type": "code",
   "execution_count": 13,
   "metadata": {},
   "outputs": [],
   "source": [
    "# Dependencies and Setup\n",
    "import matplotlib.pyplot as plt\n",
    "import pandas as pd\n",
    "import numpy as np\n",
    "import requests\n",
    "import gmaps\n",
    "import os,sys,inspect\n",
    "\n",
    "current_dir = os.path.dirname(os.path.abspath(inspect.getfile(inspect.currentframe())))\n",
    "parent_dir = os.path.dirname(current_dir)\n",
    "sys.path.insert(0, parent_dir) \n",
    "import api_keys as keys"
   ]
  },
  {
   "cell_type": "code",
   "execution_count": 36,
   "metadata": {},
   "outputs": [
    {
     "output_type": "execute_result",
     "data": {
      "text/plain": [
       "     country                 city   latitude   longitude hemisphere   temp  \\\n",
       "854       MU          grand gaube -20.006389   57.660833   southern  68.00   \n",
       "377       ES                baeza  37.993839   -3.471029   northern  76.98   \n",
       "331       GR             rizarion  40.787222   22.083889   northern  70.14   \n",
       "280       IN            karanpura  29.841944   73.454167   northern  73.33   \n",
       "379       GR         kato soulion  38.166667   24.000000   northern  62.11   \n",
       "290       IN              aligarh  27.883333   78.083333   northern  72.28   \n",
       "252       IN               gagret  31.666667   76.066667   northern  67.06   \n",
       "1064      AR        puerto madryn -42.769201  -65.038513   southern  79.54   \n",
       "661       EC           cariamanga  -4.333333  -79.550000   southern  78.80   \n",
       "185       MX             el limon  19.816667 -104.183333   northern  70.72   \n",
       "291       IR                 fasa  28.938300   53.648200   northern  71.60   \n",
       "1522      BA      bronzani majdan  44.786944   16.931111   northern  66.20   \n",
       "1059      CL           villarrica -39.266667  -72.216667   southern  66.20   \n",
       "170       MX          tancuayalab  21.733333  -98.566667   northern  65.79   \n",
       "810       MU          fond du sac -20.043056   57.578611   southern  68.00   \n",
       "1007      CL             graneros -34.066667  -70.733333   southern  71.60   \n",
       "832       MU  plaines des papayes -20.065000   57.572500   southern  68.00   \n",
       "100       MX          san agustin  20.533333 -103.466667   northern  61.38   \n",
       "446       IN            siruguppa  15.633333   76.900000   northern  77.09   \n",
       "1008      CL           santa cruz -34.633333  -71.366667   southern  72.27   \n",
       "120       IN              shahdol  23.283333   81.350000   northern  67.68   \n",
       "\n",
       "      humidity  clouds  wind  temp_max  \n",
       "854       67.0     0.0  3.00     68.00  \n",
       "377       35.0     0.0  3.00     79.00  \n",
       "331       73.0     1.0  0.89     72.00  \n",
       "280       18.0     0.0  4.07     73.33  \n",
       "379       56.0     0.0  1.99     66.99  \n",
       "290       21.0     0.0  2.39     72.28  \n",
       "252       26.0     0.0  2.91     67.06  \n",
       "1064      17.0     0.0  4.12     79.54  \n",
       "661       34.0     0.0  2.24     78.80  \n",
       "185       77.0     0.0  1.32     70.72  \n",
       "291       17.0     0.0  4.70     71.60  \n",
       "1522      55.0     0.0  2.24     66.20  \n",
       "1059      63.0     0.0  3.36     66.20  \n",
       "170       71.0     0.0  3.80     65.79  \n",
       "810       67.0     1.0  3.00     68.00  \n",
       "1007      46.0     0.0  2.62     71.60  \n",
       "832       67.0     1.0  3.00     68.00  \n",
       "100       76.0     5.0  3.20     66.00  \n",
       "446       57.0     0.0  3.04     77.09  \n",
       "1008      60.0     0.0  3.36     75.99  \n",
       "120       44.0     0.0  2.01     67.68  "
      ],
      "text/html": "<div>\n<style scoped>\n    .dataframe tbody tr th:only-of-type {\n        vertical-align: middle;\n    }\n\n    .dataframe tbody tr th {\n        vertical-align: top;\n    }\n\n    .dataframe thead th {\n        text-align: right;\n    }\n</style>\n<table border=\"1\" class=\"dataframe\">\n  <thead>\n    <tr style=\"text-align: right;\">\n      <th></th>\n      <th>country</th>\n      <th>city</th>\n      <th>latitude</th>\n      <th>longitude</th>\n      <th>hemisphere</th>\n      <th>temp</th>\n      <th>humidity</th>\n      <th>clouds</th>\n      <th>wind</th>\n      <th>temp_max</th>\n    </tr>\n  </thead>\n  <tbody>\n    <tr>\n      <th>854</th>\n      <td>MU</td>\n      <td>grand gaube</td>\n      <td>-20.006389</td>\n      <td>57.660833</td>\n      <td>southern</td>\n      <td>68.00</td>\n      <td>67.0</td>\n      <td>0.0</td>\n      <td>3.00</td>\n      <td>68.00</td>\n    </tr>\n    <tr>\n      <th>377</th>\n      <td>ES</td>\n      <td>baeza</td>\n      <td>37.993839</td>\n      <td>-3.471029</td>\n      <td>northern</td>\n      <td>76.98</td>\n      <td>35.0</td>\n      <td>0.0</td>\n      <td>3.00</td>\n      <td>79.00</td>\n    </tr>\n    <tr>\n      <th>331</th>\n      <td>GR</td>\n      <td>rizarion</td>\n      <td>40.787222</td>\n      <td>22.083889</td>\n      <td>northern</td>\n      <td>70.14</td>\n      <td>73.0</td>\n      <td>1.0</td>\n      <td>0.89</td>\n      <td>72.00</td>\n    </tr>\n    <tr>\n      <th>280</th>\n      <td>IN</td>\n      <td>karanpura</td>\n      <td>29.841944</td>\n      <td>73.454167</td>\n      <td>northern</td>\n      <td>73.33</td>\n      <td>18.0</td>\n      <td>0.0</td>\n      <td>4.07</td>\n      <td>73.33</td>\n    </tr>\n    <tr>\n      <th>379</th>\n      <td>GR</td>\n      <td>kato soulion</td>\n      <td>38.166667</td>\n      <td>24.000000</td>\n      <td>northern</td>\n      <td>62.11</td>\n      <td>56.0</td>\n      <td>0.0</td>\n      <td>1.99</td>\n      <td>66.99</td>\n    </tr>\n    <tr>\n      <th>290</th>\n      <td>IN</td>\n      <td>aligarh</td>\n      <td>27.883333</td>\n      <td>78.083333</td>\n      <td>northern</td>\n      <td>72.28</td>\n      <td>21.0</td>\n      <td>0.0</td>\n      <td>2.39</td>\n      <td>72.28</td>\n    </tr>\n    <tr>\n      <th>252</th>\n      <td>IN</td>\n      <td>gagret</td>\n      <td>31.666667</td>\n      <td>76.066667</td>\n      <td>northern</td>\n      <td>67.06</td>\n      <td>26.0</td>\n      <td>0.0</td>\n      <td>2.91</td>\n      <td>67.06</td>\n    </tr>\n    <tr>\n      <th>1064</th>\n      <td>AR</td>\n      <td>puerto madryn</td>\n      <td>-42.769201</td>\n      <td>-65.038513</td>\n      <td>southern</td>\n      <td>79.54</td>\n      <td>17.0</td>\n      <td>0.0</td>\n      <td>4.12</td>\n      <td>79.54</td>\n    </tr>\n    <tr>\n      <th>661</th>\n      <td>EC</td>\n      <td>cariamanga</td>\n      <td>-4.333333</td>\n      <td>-79.550000</td>\n      <td>southern</td>\n      <td>78.80</td>\n      <td>34.0</td>\n      <td>0.0</td>\n      <td>2.24</td>\n      <td>78.80</td>\n    </tr>\n    <tr>\n      <th>185</th>\n      <td>MX</td>\n      <td>el limon</td>\n      <td>19.816667</td>\n      <td>-104.183333</td>\n      <td>northern</td>\n      <td>70.72</td>\n      <td>77.0</td>\n      <td>0.0</td>\n      <td>1.32</td>\n      <td>70.72</td>\n    </tr>\n    <tr>\n      <th>291</th>\n      <td>IR</td>\n      <td>fasa</td>\n      <td>28.938300</td>\n      <td>53.648200</td>\n      <td>northern</td>\n      <td>71.60</td>\n      <td>17.0</td>\n      <td>0.0</td>\n      <td>4.70</td>\n      <td>71.60</td>\n    </tr>\n    <tr>\n      <th>1522</th>\n      <td>BA</td>\n      <td>bronzani majdan</td>\n      <td>44.786944</td>\n      <td>16.931111</td>\n      <td>northern</td>\n      <td>66.20</td>\n      <td>55.0</td>\n      <td>0.0</td>\n      <td>2.24</td>\n      <td>66.20</td>\n    </tr>\n    <tr>\n      <th>1059</th>\n      <td>CL</td>\n      <td>villarrica</td>\n      <td>-39.266667</td>\n      <td>-72.216667</td>\n      <td>southern</td>\n      <td>66.20</td>\n      <td>63.0</td>\n      <td>0.0</td>\n      <td>3.36</td>\n      <td>66.20</td>\n    </tr>\n    <tr>\n      <th>170</th>\n      <td>MX</td>\n      <td>tancuayalab</td>\n      <td>21.733333</td>\n      <td>-98.566667</td>\n      <td>northern</td>\n      <td>65.79</td>\n      <td>71.0</td>\n      <td>0.0</td>\n      <td>3.80</td>\n      <td>65.79</td>\n    </tr>\n    <tr>\n      <th>810</th>\n      <td>MU</td>\n      <td>fond du sac</td>\n      <td>-20.043056</td>\n      <td>57.578611</td>\n      <td>southern</td>\n      <td>68.00</td>\n      <td>67.0</td>\n      <td>1.0</td>\n      <td>3.00</td>\n      <td>68.00</td>\n    </tr>\n    <tr>\n      <th>1007</th>\n      <td>CL</td>\n      <td>graneros</td>\n      <td>-34.066667</td>\n      <td>-70.733333</td>\n      <td>southern</td>\n      <td>71.60</td>\n      <td>46.0</td>\n      <td>0.0</td>\n      <td>2.62</td>\n      <td>71.60</td>\n    </tr>\n    <tr>\n      <th>832</th>\n      <td>MU</td>\n      <td>plaines des papayes</td>\n      <td>-20.065000</td>\n      <td>57.572500</td>\n      <td>southern</td>\n      <td>68.00</td>\n      <td>67.0</td>\n      <td>1.0</td>\n      <td>3.00</td>\n      <td>68.00</td>\n    </tr>\n    <tr>\n      <th>100</th>\n      <td>MX</td>\n      <td>san agustin</td>\n      <td>20.533333</td>\n      <td>-103.466667</td>\n      <td>northern</td>\n      <td>61.38</td>\n      <td>76.0</td>\n      <td>5.0</td>\n      <td>3.20</td>\n      <td>66.00</td>\n    </tr>\n    <tr>\n      <th>446</th>\n      <td>IN</td>\n      <td>siruguppa</td>\n      <td>15.633333</td>\n      <td>76.900000</td>\n      <td>northern</td>\n      <td>77.09</td>\n      <td>57.0</td>\n      <td>0.0</td>\n      <td>3.04</td>\n      <td>77.09</td>\n    </tr>\n    <tr>\n      <th>1008</th>\n      <td>CL</td>\n      <td>santa cruz</td>\n      <td>-34.633333</td>\n      <td>-71.366667</td>\n      <td>southern</td>\n      <td>72.27</td>\n      <td>60.0</td>\n      <td>0.0</td>\n      <td>3.36</td>\n      <td>75.99</td>\n    </tr>\n    <tr>\n      <th>120</th>\n      <td>IN</td>\n      <td>shahdol</td>\n      <td>23.283333</td>\n      <td>81.350000</td>\n      <td>northern</td>\n      <td>67.68</td>\n      <td>44.0</td>\n      <td>0.0</td>\n      <td>2.01</td>\n      <td>67.68</td>\n    </tr>\n  </tbody>\n</table>\n</div>"
     },
     "metadata": {},
     "execution_count": 36
    }
   ],
   "source": [
    "df_city_weather = pd.read_csv(os.path.join('..','Resources', 'city_weather.csv')).sample(500)\n",
    "df_ideal_weather = df_city_weather.loc[(df_city_weather.temp_max >= 65)\n",
    "                                     & (df_city_weather.temp_max <= 82)\n",
    "                                     & (df_city_weather.wind < 5)\n",
    "                                     & (df_city_weather.clouds < 10)]\n",
    "df_ideal_weather"
   ]
  },
  {
   "cell_type": "code",
   "execution_count": 60,
   "metadata": {},
   "outputs": [],
   "source": [
    "base_url = \"https://maps.googleapis.com/maps/api/place/nearbysearch/json\"\n",
    "hotel_df = pd.DataFrame(columns=['hotel_name', 'city', 'country', 'lat', 'lng'])\n",
    "\n",
    "for index, row in df_ideal_weather.iterrows():\n",
    "    params = {\n",
    "        \"location\": f\"{row['latitude']}, {row['longitude']}\",\n",
    "        \"keyword\": \"hotel\",\n",
    "        \"radius\": 5000,\n",
    "        \"type\": 'lodging',\n",
    "        \"key\": keys.g_key\n",
    "    }\n",
    "\n",
    "    response = requests.get(base_url, params=params).json()\n",
    "\n",
    "    for h in response['results']:\n",
    "        if h['business_status'] == 'OPERATIONAL':\n",
    "            hotel_df = hotel_df.append(pd.DataFrame({\n",
    "                'hotel_name':[h['name']],\n",
    "                'city':[row['city'].title()],\n",
    "                'country':[row['country']],\n",
    "                'lat':[h['geometry']['location']['lat']],\n",
    "                'lng':[h['geometry']['location']['lng']]\n",
    "            }))\n",
    "            break\n",
    "\n",
    "    \n",
    "\n",
    "info_box_template = \"\"\"\n",
    "<p>Name: {hotel_name}</p>\n",
    "<p>City: {city}</p>\n",
    "<p>Country: {country}</p>\n",
    "\"\"\"\n",
    "\n",
    "hotel_info = [info_box_template.format(**row) for index, row in hotel_df.iterrows()]"
   ]
  },
  {
   "cell_type": "code",
   "execution_count": 61,
   "metadata": {},
   "outputs": [
    {
     "output_type": "execute_result",
     "data": {
      "text/plain": [
       "                         hotel_name                 city country        lat  \\\n",
       "0   LUX Grand Gaube Resort & Villas          Grand Gaube      MU -20.002344   \n",
       "0           Hotel Puerta de la Luna                Baeza      ES  37.989860   \n",
       "0                  Varosi 4 Seasons             Rizarion      GR  40.801592   \n",
       "0                  Lisianthos Villa         Kato Soulion      GR  38.156989   \n",
       "0                  Hotel Orchid Blu              Aligarh      IN  27.893967   \n",
       "0             The Hotel Clark Plaza               Gagret      IN  31.694097   \n",
       "0  Dazzler by Wyndham Puerto Madryn        Puerto Madryn      AR -42.769820   \n",
       "0                         HOSTAL JV           Cariamanga      EC  -4.329812   \n",
       "0             Hotel Del Camino Real             El Limon      MX  19.804912   \n",
       "0                  Jahangardi Hotel                 Fasa      IR  28.943129   \n",
       "0               Hotel Terraza Suite           Villarrica      CL -39.282734   \n",
       "0                             Hotel          Tancuayalab      MX  21.719984   \n",
       "0    Sea Resorts Hotels Head Office          Fond Du Sac      MU -20.031682   \n",
       "0                 Trabatel Graneros             Graneros      CL -34.063229   \n",
       "0    Sea Resorts Hotels Head Office  Plaines Des Papayes      MU -20.031682   \n",
       "0     Cava Colchagua Hotel Boutique           Santa Cruz      CL -34.616035   \n",
       "0                 Hotel Aman Palace              Shahdol      IN  23.313842   \n",
       "\n",
       "          lng  \n",
       "0   57.659766  \n",
       "0   -3.469757  \n",
       "0   22.053675  \n",
       "0   24.059962  \n",
       "0   78.087021  \n",
       "0   76.081267  \n",
       "0  -65.030420  \n",
       "0  -79.556916  \n",
       "0 -104.217854  \n",
       "0   53.639358  \n",
       "0  -72.222667  \n",
       "0  -98.584895  \n",
       "0   57.589124  \n",
       "0  -70.729705  \n",
       "0   57.589124  \n",
       "0  -71.370899  \n",
       "0   81.363839  "
      ],
      "text/html": "<div>\n<style scoped>\n    .dataframe tbody tr th:only-of-type {\n        vertical-align: middle;\n    }\n\n    .dataframe tbody tr th {\n        vertical-align: top;\n    }\n\n    .dataframe thead th {\n        text-align: right;\n    }\n</style>\n<table border=\"1\" class=\"dataframe\">\n  <thead>\n    <tr style=\"text-align: right;\">\n      <th></th>\n      <th>hotel_name</th>\n      <th>city</th>\n      <th>country</th>\n      <th>lat</th>\n      <th>lng</th>\n    </tr>\n  </thead>\n  <tbody>\n    <tr>\n      <th>0</th>\n      <td>LUX Grand Gaube Resort &amp; Villas</td>\n      <td>Grand Gaube</td>\n      <td>MU</td>\n      <td>-20.002344</td>\n      <td>57.659766</td>\n    </tr>\n    <tr>\n      <th>0</th>\n      <td>Hotel Puerta de la Luna</td>\n      <td>Baeza</td>\n      <td>ES</td>\n      <td>37.989860</td>\n      <td>-3.469757</td>\n    </tr>\n    <tr>\n      <th>0</th>\n      <td>Varosi 4 Seasons</td>\n      <td>Rizarion</td>\n      <td>GR</td>\n      <td>40.801592</td>\n      <td>22.053675</td>\n    </tr>\n    <tr>\n      <th>0</th>\n      <td>Lisianthos Villa</td>\n      <td>Kato Soulion</td>\n      <td>GR</td>\n      <td>38.156989</td>\n      <td>24.059962</td>\n    </tr>\n    <tr>\n      <th>0</th>\n      <td>Hotel Orchid Blu</td>\n      <td>Aligarh</td>\n      <td>IN</td>\n      <td>27.893967</td>\n      <td>78.087021</td>\n    </tr>\n    <tr>\n      <th>0</th>\n      <td>The Hotel Clark Plaza</td>\n      <td>Gagret</td>\n      <td>IN</td>\n      <td>31.694097</td>\n      <td>76.081267</td>\n    </tr>\n    <tr>\n      <th>0</th>\n      <td>Dazzler by Wyndham Puerto Madryn</td>\n      <td>Puerto Madryn</td>\n      <td>AR</td>\n      <td>-42.769820</td>\n      <td>-65.030420</td>\n    </tr>\n    <tr>\n      <th>0</th>\n      <td>HOSTAL JV</td>\n      <td>Cariamanga</td>\n      <td>EC</td>\n      <td>-4.329812</td>\n      <td>-79.556916</td>\n    </tr>\n    <tr>\n      <th>0</th>\n      <td>Hotel Del Camino Real</td>\n      <td>El Limon</td>\n      <td>MX</td>\n      <td>19.804912</td>\n      <td>-104.217854</td>\n    </tr>\n    <tr>\n      <th>0</th>\n      <td>Jahangardi Hotel</td>\n      <td>Fasa</td>\n      <td>IR</td>\n      <td>28.943129</td>\n      <td>53.639358</td>\n    </tr>\n    <tr>\n      <th>0</th>\n      <td>Hotel Terraza Suite</td>\n      <td>Villarrica</td>\n      <td>CL</td>\n      <td>-39.282734</td>\n      <td>-72.222667</td>\n    </tr>\n    <tr>\n      <th>0</th>\n      <td>Hotel</td>\n      <td>Tancuayalab</td>\n      <td>MX</td>\n      <td>21.719984</td>\n      <td>-98.584895</td>\n    </tr>\n    <tr>\n      <th>0</th>\n      <td>Sea Resorts Hotels Head Office</td>\n      <td>Fond Du Sac</td>\n      <td>MU</td>\n      <td>-20.031682</td>\n      <td>57.589124</td>\n    </tr>\n    <tr>\n      <th>0</th>\n      <td>Trabatel Graneros</td>\n      <td>Graneros</td>\n      <td>CL</td>\n      <td>-34.063229</td>\n      <td>-70.729705</td>\n    </tr>\n    <tr>\n      <th>0</th>\n      <td>Sea Resorts Hotels Head Office</td>\n      <td>Plaines Des Papayes</td>\n      <td>MU</td>\n      <td>-20.031682</td>\n      <td>57.589124</td>\n    </tr>\n    <tr>\n      <th>0</th>\n      <td>Cava Colchagua Hotel Boutique</td>\n      <td>Santa Cruz</td>\n      <td>CL</td>\n      <td>-34.616035</td>\n      <td>-71.370899</td>\n    </tr>\n    <tr>\n      <th>0</th>\n      <td>Hotel Aman Palace</td>\n      <td>Shahdol</td>\n      <td>IN</td>\n      <td>23.313842</td>\n      <td>81.363839</td>\n    </tr>\n  </tbody>\n</table>\n</div>"
     },
     "metadata": {},
     "execution_count": 61
    }
   ],
   "source": [
    "hotel_df.head(20)"
   ]
  },
  {
   "cell_type": "code",
   "execution_count": 63,
   "metadata": {},
   "outputs": [
    {
     "output_type": "display_data",
     "data": {
      "text/plain": "Figure(layout=FigureLayout(height='420px'))",
      "application/vnd.jupyter.widget-view+json": {
       "version_major": 2,
       "version_minor": 0,
       "model_id": "eb932378a4994ea3a34f1ff07e3fe6cb"
      }
     },
     "metadata": {}
    }
   ],
   "source": [
    "gmaps.configure(api_key=keys.g_key)\n",
    "heat_locations = df_city_weather[[\"latitude\", \"longitude\"]].astype(float)\n",
    "humidity = df_city_weather[\"humidity\"].astype(float)\n",
    "\n",
    "fig = gmaps.figure()\n",
    "\n",
    "heat_layer = gmaps.heatmap_layer(heat_locations, weights=humidity, \n",
    "                                 dissipating=False, max_intensity=max(humidity),\n",
    "                                 point_radius = 1)\n",
    "\n",
    "marker_locations = hotel_df[['lat', 'lng']]\n",
    "markers = gmaps.marker_layer(marker_locations,\n",
    "    info_box_content=hotel_info)\n",
    "fig.add_layer(markers)\n",
    "\n",
    "fig.add_layer(heat_layer)\n",
    "\n",
    "fig\n"
   ]
  }
 ],
 "metadata": {
  "kernelspec": {
   "name": "Python 3.8.3 64-bit ('Connor': virtualenv)",
   "display_name": "Python 3.8.3 64-bit ('Connor': virtualenv)",
   "metadata": {
    "interpreter": {
     "hash": "4daf9c02b5623c0360fcfe1d6dda508d767b2df27b9fea1946db53939aeb33a9"
    }
   }
  },
  "language_info": {
   "codemirror_mode": {
    "name": "ipython",
    "version": 3
   },
   "file_extension": ".py",
   "mimetype": "text/x-python",
   "name": "python",
   "nbconvert_exporter": "python",
   "pygments_lexer": "ipython3",
   "version": "3.8.3-final"
  },
  "latex_envs": {
   "LaTeX_envs_menu_present": true,
   "autoclose": false,
   "autocomplete": true,
   "bibliofile": "biblio.bib",
   "cite_by": "apalike",
   "current_citInitial": 1,
   "eqLabelWithNumbers": true,
   "eqNumInitial": 1,
   "hotkeys": {
    "equation": "Ctrl-E",
    "itemize": "Ctrl-I"
   },
   "labels_anchors": false,
   "latex_user_defs": false,
   "report_style_numbering": false,
   "user_envs_cfg": false
  }
 },
 "nbformat": 4,
 "nbformat_minor": 4
}